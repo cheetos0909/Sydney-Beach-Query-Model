{
  "cells": [
    {
      "cell_type": "code",
      "execution_count": null,
      "metadata": {
        "id": "1F96Z755sqX6"
      },
      "outputs": [],
      "source": [
        "!pip install cohere\n",
        "!pip install annoy"
      ]
    },
    {
      "cell_type": "code",
      "execution_count": null,
      "metadata": {
        "id": "xrJQfUUvr_GJ"
      },
      "outputs": [],
      "source": [
        "import cohere\n",
        "import numpy as np\n",
        "import warnings\n",
        "warnings.filterwarnings('ignore')\n",
        "from annoy import AnnoyIndex\n",
        "import pandas as pd"
      ]
    },
    {
      "cell_type": "code",
      "execution_count": null,
      "metadata": {
        "id": "kcfT3CoqsyJr"
      },
      "outputs": [],
      "source": [
        "question = \"Which Sydney beach should I visit?\"\n",
        "\n",
        "\n",
        "\n",
        "text = \"\"\"\n",
        "\n",
        "Sydney is world famous for beautiful beaches. These beaches offer different vibes and attractions, from bustling crowds and great surfing conditions to more tranquil and family-friendly environments.\n",
        "\n",
        "\n",
        "\n",
        "Bondi Beach: Bondi is perhaps the most famous beach in Sydney, if not Australia. It's known for its golden sands, vibrant atmosphere, and excellent surfing conditions. The Bondi to Coogee coastal walk offers stunning views of the coastline.\n",
        "\n",
        "\n",
        "\n",
        "Manly Beach: Easily accessible by a scenic ferry ride from Circular Quay, Manly Beach is known for its laid-back atmosphere and family-friendly environment. The beach is great for swimming, surfing, and various water sports.\n",
        "\n",
        "\n",
        "\n",
        "Cronulla Beach: Located in the Sutherland Shire, Cronulla offers a more relaxed atmosphere compared to some of the busier city beaches. It's a great spot for swimming, picnicking, and enjoying a range of seaside cafes and restaurants.\n",
        "\n",
        "\n",
        "\n",
        "\n",
        "Bronte Beach: Situated between Bondi and Coogee, Bronte Beach is popular among both locals and visitors. It's a smaller, quieter beach with a beautiful park area and a natural rock pool that's ideal for swimming.\n",
        "\n",
        "\n",
        "\n",
        "Tamarama Beach: Also known as \"Glamarama\" due to its popularity among the fashion-conscious crowd, Tamarama Beach is a smaller and more secluded option. It's surrounded by rocky cliffs and offers strong surf, making it a favorite among experienced surfers.\n",
        "\n",
        "\"\"\""
      ]
    },
    {
      "cell_type": "code",
      "execution_count": null,
      "metadata": {
        "id": "x51XYt-TtwvB"
      },
      "outputs": [],
      "source": [
        "#Split into a list of paragraphs.\n",
        "texts=text.split('\\n\\n')\n",
        "\n",
        "# Clean up to remove empty spaces and new lines\n",
        "texts=np.array([t.strip(' \\n') for t in texts if t])\n"
      ]
    },
    {
      "cell_type": "code",
      "execution_count": null,
      "metadata": {},
      "outputs": [],
      "source": [
        "from config import API_KEY"
      ]
    },
    {
      "cell_type": "code",
      "execution_count": null,
      "metadata": {
        "id": "0QXoT-SNuSqO"
      },
      "outputs": [],
      "source": [
        "co=cohere.Client(API_KEY)"
      ]
    },
    {
      "cell_type": "code",
      "execution_count": null,
      "metadata": {
        "id": "IscrvHgAuZtJ"
      },
      "outputs": [],
      "source": [
        "# Get the Embeddings\n",
        "response=co.embed(\n",
        "    texts =texts.tolist(),\n",
        ").embeddings"
      ]
    },
    {
      "cell_type": "code",
      "execution_count": null,
      "metadata": {
        "colab": {
          "base_uri": "https://localhost:8080/"
        },
        "id": "tgVnUipjvHQ4",
        "outputId": "4274d0c6-e2e2-49fa-e9f1-b1f67f344385"
      },
      "outputs": [
        {
          "data": {
            "text/plain": [
              "array(['Sydney is world famous for beautiful beaches. These beaches offer different vibes and attractions, from bustling crowds and great surfing conditions to more tranquil and family-friendly environments.',\n",
              "       \"Bondi Beach: Bondi is perhaps the most famous beach in Sydney, if not Australia. It's known for its golden sands, vibrant atmosphere, and excellent surfing conditions. The Bondi to Coogee coastal walk offers stunning views of the coastline.\",\n",
              "       'Manly Beach: Easily accessible by a scenic ferry ride from Circular Quay, Manly Beach is known for its laid-back atmosphere and family-friendly environment. The beach is great for swimming, surfing, and various water sports.',\n",
              "       \"Cronulla Beach: Located in the Sutherland Shire, Cronulla offers a more relaxed atmosphere compared to some of the busier city beaches. It's a great spot for swimming, picnicking, and enjoying a range of seaside cafes and restaurants.\",\n",
              "       \"Bronte Beach: Situated between Bondi and Coogee, Bronte Beach is popular among both locals and visitors. It's a smaller, quieter beach with a beautiful park area and a natural rock pool that's ideal for swimming.\",\n",
              "       'Tamarama Beach: Also known as \"Glamarama\" due to its popularity among the fashion-conscious crowd, Tamarama Beach is a smaller and more secluded option. It\\'s surrounded by rocky cliffs and offers strong surf, making it a favorite among experienced surfers.'],\n",
              "      dtype='<U256')"
            ]
          },
          "execution_count": 11,
          "metadata": {},
          "output_type": "execute_result"
        }
      ],
      "source": [
        "texts"
      ]
    },
    {
      "cell_type": "code",
      "execution_count": null,
      "metadata": {
        "colab": {
          "base_uri": "https://localhost:8080/"
        },
        "id": "IpEEwqeHvKOG",
        "outputId": "bb40739e-997b-4c20-8d74-3b9d393274fb"
      },
      "outputs": [
        {
          "data": {
            "text/plain": [
              "(6, 4096)"
            ]
          },
          "execution_count": 15,
          "metadata": {},
          "output_type": "execute_result"
        }
      ],
      "source": [
        "(np.array(response).shape)"
      ]
    },
    {
      "cell_type": "code",
      "execution_count": null,
      "metadata": {
        "colab": {
          "base_uri": "https://localhost:8080/"
        },
        "id": "-aLyDxpOvPfH",
        "outputId": "5f361b18-9156-4818-8993-70027a1fad55"
      },
      "outputs": [
        {
          "data": {
            "text/plain": [
              "True"
            ]
          },
          "execution_count": 18,
          "metadata": {},
          "output_type": "execute_result"
        }
      ],
      "source": [
        "#Check the dimension of embeddings\n",
        "embeds=np.array(response)\n",
        "\n",
        "# Create the search index, pass the size of embeddings\n",
        "search_index=AnnoyIndex(embeds.shape[1],'angular')\n",
        "\n",
        "#Add all the vectors to the search index\n",
        "for i in range(len(embeds)):\n",
        "  search_index.add_item(i,embeds[i])\n",
        "\n",
        "search_index.build(10)  #10 trees\n",
        "search_index.save('test.ann')"
      ]
    },
    {
      "cell_type": "code",
      "execution_count": null,
      "metadata": {
        "id": "rnzMIH5SvcYl"
      },
      "outputs": [],
      "source": [
        "def search_text(query):\n",
        "  #Get the query's embeddings\n",
        "  query_embed = co.embed(texts=[query]).embeddings\n",
        "\n",
        "  #Retrieve the nearest neighbors\n",
        "  similar_item_ids=search_index.get_nns_by_vector(query_embed[0],\n",
        "                                                  10,\n",
        "                                                  include_distances=True)\n",
        "  search_results = texts[similar_item_ids[0]]\n",
        "  return search_results"
      ]
    },
    {
      "cell_type": "code",
      "execution_count": null,
      "metadata": {
        "colab": {
          "base_uri": "https://localhost:8080/"
        },
        "id": "yQ3mCdpA0KAj",
        "outputId": "9c1ed937-d3e4-4968-c847-1dfe9f54baa9"
      },
      "outputs": [
        {
          "name": "stdout",
          "output_type": "stream",
          "text": [
            "Bondi Beach: Bondi is perhaps the most famous beach in Sydney, if not Australia. It's known for its golden sands, vibrant atmosphere, and excellent surfing conditions. The Bondi to Coogee coastal walk offers stunning views of the coastline.\n"
          ]
        }
      ],
      "source": [
        "results= search_text(question)\n",
        "\n",
        "print(results[0])"
      ]
    },
    {
      "cell_type": "code",
      "execution_count": null,
      "metadata": {
        "id": "keZhA0NQ0RiB"
      },
      "outputs": [],
      "source": [
        "def ask_llm(question, num_generations=1):\n",
        "    # Search the text archive\n",
        "    results = search_text(question)\n",
        "    # Get the top result\n",
        "    context = results[0]\n",
        "    # Prepare the prompt\n",
        "    prompt = f\"\"\"\n",
        "    More information about Australian beaches at australia.com:\n",
        "    {context}\n",
        "    Question: {question}\n",
        "     Extract the answer of the question from the text provided.\n",
        "     If the text doesn't contain the answer,\n",
        "     reply that the answer is not available.\"\"\"\n",
        "\n",
        "    prediction = co.generate(\n",
        "         prompt=prompt,\n",
        "         max_tokens=70,\n",
        "         model=\"command-nightly\",\n",
        "         temperature=0.5,\n",
        "         num_generations=num_generations\n",
        "         )\n",
        "\n",
        "\n",
        "\n",
        "    return prediction.generations\n",
        "\n"
      ]
    },
    {
      "cell_type": "code",
      "execution_count": null,
      "metadata": {
        "colab": {
          "base_uri": "https://localhost:8080/"
        },
        "id": "GN9NK7O705C5",
        "outputId": "32638738-a35c-4b2e-dbcb-d3a706592df0"
      },
      "outputs": [
        {
          "name": "stdout",
          "output_type": "stream",
          "text": [
            "id='3c430ee1-7c52-4896-8fff-dfe7f7362b79' text='Bondi Beach.' index=None likelihood=None token_likelihoods=None finish_reason='COMPLETE'\n"
          ]
        }
      ],
      "source": [
        "results = ask_llm(question,)\n",
        "\n",
        "print(results[0])"
      ]
    },
    {
      "cell_type": "code",
      "execution_count": null,
      "metadata": {
        "colab": {
          "base_uri": "https://localhost:8080/"
        },
        "id": "Lv283rMq07Vi",
        "outputId": "f687500c-e0a5-4fad-a6db-4d29f5007514"
      },
      "outputs": [
        {
          "name": "stdout",
          "output_type": "stream",
          "text": [
            "id='ae7a4055-129b-4e3c-995e-782c62e23957' text='The answer is not available.' index=None likelihood=None token_likelihoods=None finish_reason='COMPLETE'\n"
          ]
        }
      ],
      "source": [
        "question = \"Which Sydney beach is for family?\"\n",
        "results = ask_llm(question,)\n",
        "print(results[0])"
      ]
    },
    {
      "cell_type": "code",
      "execution_count": null,
      "metadata": {
        "colab": {
          "base_uri": "https://localhost:8080/"
        },
        "id": "i77iTg8a3fVt",
        "outputId": "48d9cbbd-454a-45b8-ad40-f9313ee34895"
      },
      "outputs": [
        {
          "name": "stdout",
          "output_type": "stream",
          "text": [
            "id='01cf956d-2910-4cfa-9b7e-5e9d977648b9' text='Bronte Beach.' index=None likelihood=None token_likelihoods=None finish_reason='COMPLETE'\n"
          ]
        }
      ],
      "source": [
        "question = \"Which Sydney beach does has a rock pool?\"\n",
        "results = ask_llm(question,)\n",
        "print(results[0])"
      ]
    },
    {
      "cell_type": "code",
      "execution_count": null,
      "metadata": {
        "colab": {
          "base_uri": "https://localhost:8080/"
        },
        "id": "ZSkwPCt53r2h",
        "outputId": "ba611721-9597-42fd-ca6d-8cd8ebb22707"
      },
      "outputs": [
        {
          "name": "stdout",
          "output_type": "stream",
          "text": [
            "id='56d852bd-8171-4402-9f60-5b8b1c3c0f91' text='Sydney is famous for beautiful beaches.' index=None likelihood=None token_likelihoods=None finish_reason='COMPLETE'\n"
          ]
        }
      ],
      "source": [
        "question = \"What is Sydney famous for?\"\n",
        "results = ask_llm(question,)\n",
        "print(results[0])"
      ]
    },
    {
      "cell_type": "code",
      "execution_count": null,
      "metadata": {
        "id": "hOtHMZzf6opa"
      },
      "outputs": [],
      "source": []
    }
  ],
  "metadata": {
    "colab": {
      "provenance": []
    },
    "kernelspec": {
      "display_name": "Python 3",
      "name": "python3"
    },
    "language_info": {
      "name": "python"
    }
  },
  "nbformat": 4,
  "nbformat_minor": 0
}
